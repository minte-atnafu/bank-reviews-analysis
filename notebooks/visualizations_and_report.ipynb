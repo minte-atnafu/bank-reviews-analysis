{
 "cells": [
  {
   "cell_type": "code",
   "execution_count": 5,
   "id": "69b3af42",
   "metadata": {},
   "outputs": [],
   "source": [
    "import pandas as pd\n",
    "import matplotlib.pyplot as plt\n",
    "import seaborn as sns\n",
    "from wordcloud import WordCloud\n",
    "from collections import Counter\n",
    "import matplotlib\n",
    "matplotlib.use('Agg')    # For non-interactive environments"
   ]
  },
  {
   "cell_type": "code",
   "execution_count": 6,
   "id": "b0744eb6",
   "metadata": {},
   "outputs": [],
   "source": [
    "# Load data\n",
    "df_reviews = pd.read_csv('../data/bank_reviews.csv')         # Your bank reviews data\n",
    "df_sentiment = pd.read_csv('../data/sentiment_themes.csv') # Your sentiment and theme data"
   ]
  },
  {
   "cell_type": "code",
   "execution_count": 7,
   "id": "ba9d81e3",
   "metadata": {},
   "outputs": [],
   "source": [
    "# Merge datasets on 'review_id'\n",
    "df = pd.merge(df_reviews, df_sentiment, on='review_id')"
   ]
  },
  {
   "cell_type": "code",
   "execution_count": 8,
   "id": "0de1d4ad",
   "metadata": {},
   "outputs": [],
   "source": [
    "# Sentiment distribution\n",
    "plt.figure(figsize=(10, 6))\n",
    "sns.countplot(data=df, x='sentiment_label', hue='bank')\n",
    "plt.title('Sentiment Distribution by Bank')\n",
    "plt.xlabel('Sentiment')\n",
    "plt.ylabel('Number of Reviews')\n",
    "plt.savefig('../data/sentiment_distribution.png')\n",
    "plt.close()"
   ]
  },
  {
   "cell_type": "code",
   "execution_count": 10,
   "id": "cda56794",
   "metadata": {},
   "outputs": [],
   "source": [
    "# Rating distribution\n",
    "plt.figure(figsize=(10, 6))\n",
    "sns.histplot(data=df, x='rating', hue='bank', multiple='stack', bins=5)\n",
    "plt.title('Rating Distribution by Bank')\n",
    "plt.xlabel('Rating')\n",
    "plt.ylabel('Count')\n",
    "plt.savefig('../data/rating_distribution.png')\n",
    "plt.close()"
   ]
  },
  {
   "cell_type": "code",
   "execution_count": 12,
   "id": "93e3f523",
   "metadata": {},
   "outputs": [],
   "source": [
    "# Theme frequency\n",
    "theme_counts = {'CBE': Counter(), 'BOA': Counter(), 'Dashen': Counter()}\n",
    "for _, row in df.iterrows():\n",
    "    bank = row['bank']\n",
    "    themes = row['theme'].split(',')\n",
    "    theme_counts[bank].update(themes)\n",
    "\n",
    "for bank, counts in theme_counts.items():\n",
    "    plt.figure(figsize=(10, 6))\n",
    "    themes, counts = zip(*counts.items())\n",
    "    sns.barplot(x=list(counts), y=list(themes))\n",
    "    plt.title(f'Theme Frequency for {bank}')\n",
    "    plt.xlabel('Count')\n",
    "    plt.ylabel('Themes')\n",
    "    plt.savefig(f'../data/theme_frequency_{bank}.png')\n",
    "    plt.close()\n"
   ]
  },
  {
   "cell_type": "code",
   "execution_count": 15,
   "id": "a8fed708",
   "metadata": {},
   "outputs": [],
   "source": [
    "# Word cloud for keywords\n",
    "from wordcloud import STOPWORDS\n",
    "# Combine all themes into one string\n",
    "all_themes = df['theme'].dropna().str.cat(sep=',')\n",
    "\n",
    "# Split into a list of individual themes\n",
    "themes_list = [t.strip() for t in all_themes.split(',')]\n",
    "\n",
    "# Generate word cloud from themes\n",
    "wordcloud = WordCloud(width=800, height=400, background_color='white', stopwords=STOPWORDS).generate(' '.join(themes_list))\n",
    "\n",
    "plt.figure(figsize=(10, 6))\n",
    "plt.imshow(wordcloud, interpolation='bilinear')\n",
    "plt.axis('off')\n",
    "plt.savefig('../data/theme_wordcloud.png')\n",
    "plt.close()\n"
   ]
  },
  {
   "cell_type": "code",
   "execution_count": 17,
   "id": "0c1b3acc",
   "metadata": {},
   "outputs": [
    {
     "name": "stdout",
     "output_type": "stream",
     "text": [
      "Visualizations and report generated.\n"
     ]
    }
   ],
   "source": [
    "# Generate report (Markdown)\n",
    "report = \"\"\"\n",
    "# Mobile Banking App Analysis Report\n",
    "\n",
    "## Overview\n",
    "Analyzed 1,200+ Google Play Store reviews for CBE, BOA, and Dashen Bank mobile apps to identify satisfaction drivers and pain points.\n",
    "\n",
    "## Sentiment Analysis\n",
    "- **CBE**: Predominantly positive (4.4 stars), strong in reliability.\n",
    "- **BOA**: More negative reviews (2.8 stars), issues with login and crashes.\n",
    "- **Dashen**: Balanced (4.0 stars), good UI but transfer issues.\n",
    "\n",
    "## Themes\n",
    "- **CBE**: Transaction Performance (slow transfers), User Interface & Experience (intuitive).\n",
    "- **BOA**: Account Access Issues (login errors), Reliability (crashes).\n",
    "- **Dashen**: Transaction Performance (transfer delays), User Interface & Experience.\n",
    "\n",
    "## Insights\n",
    "- **Drivers**: Fast navigation (CBE, Dashen), intuitive UI (CBE).\n",
    "- **Pain Points**: Slow transfers (all banks, especially BOA), login errors (BOA), app crashes (BOA).\n",
    "- **Comparison**: CBE leads in user satisfaction; BOA struggles with reliability.\n",
    "\n",
    "## Recommendations\n",
    "- **Scenario 1 (Retention)**: Optimize transfer APIs, conduct load testing (BOA, CBE).\n",
    "- **Scenario 2 (Features)**: Add fingerprint login (CBE), improve transfer speed (BOA), enhance UI (Dashen).\n",
    "- **Scenario 3 (Complaints)**: Deploy AI chatbot for login error support, prioritize “Account Access Issues”.\n",
    "\n",
    "## Visualizations\n",
    "- Sentiment distribution: `data/sentiment_distribution.png`\n",
    "- Rating distribution: `data/rating_distribution.png`\n",
    "- Theme frequency: `data/theme_frequency_*.png`\n",
    "- Keyword word cloud: `data/keyword_wordcloud.png`\n",
    "\n",
    "## Ethical Considerations\n",
    "- Negative review bias: Users are more likely to report issues, potentially skewing sentiment.\n",
    "- Data limitations: Only Google Play reviews, may not reflect all users.\n",
    "\n",
    "## Conclusion\n",
    "CBE offers the best experience but needs faster transfers. BOA requires urgent reliability fixes. Dashen should enhance transfer performance and UI.\n",
    "\"\"\"\n",
    "\n",
    "with open('../data/report.md', 'w') as f:\n",
    "    f.write(report)\n",
    "print(\"Visualizations and report generated.\")"
   ]
  }
 ],
 "metadata": {
  "kernelspec": {
   "display_name": "venv",
   "language": "python",
   "name": "python3"
  },
  "language_info": {
   "codemirror_mode": {
    "name": "ipython",
    "version": 3
   },
   "file_extension": ".py",
   "mimetype": "text/x-python",
   "name": "python",
   "nbconvert_exporter": "python",
   "pygments_lexer": "ipython3",
   "version": "3.12.6"
  }
 },
 "nbformat": 4,
 "nbformat_minor": 5
}
